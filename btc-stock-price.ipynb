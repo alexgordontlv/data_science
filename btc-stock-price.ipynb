{
 "cells": [
  {
   "cell_type": "code",
   "execution_count": 23,
   "id": "38b1bd2e",
   "metadata": {},
   "outputs": [],
   "source": [
    "import requests\n",
    "import numpy as np \n",
    "import pandas as pd \n",
    "import matplotlib.pyplot as plt\n",
    "import seaborn as sns \n",
    "%matplotlib inline \n",
    "\n",
    "from sklearn.linear_model import LinearRegression\n",
    "from sklearn.tree import DecisionTreeRegressor\n",
    "from sklearn.ensemble import RandomForestClassifier\n",
    "\n",
    "from sklearn.model_selection import train_test_split, cross_val_score\n",
    "from sklearn.model_selection import RandomizedSearchCV, GridSearchCV\n",
    "from sklearn.metrics import confusion_matrix, classification_report\n",
    "from sklearn.metrics import precision_score, recall_score, f1_score\n",
    "from sklearn.metrics import plot_roc_curve"
   ]
  },
  {
   "cell_type": "markdown",
   "id": "e0bed595",
   "metadata": {},
   "source": [
    "# Get the data from CryptoAPI"
   ]
  },
  {
   "cell_type": "code",
   "execution_count": 138,
   "id": "d996145e",
   "metadata": {},
   "outputs": [],
   "source": [
    "res = requests.get(\"https://www.alphavantage.co/query?function=DIGITAL_CURRENCY_DAILY&symbol=BTC&market=ILS&apikey=$demo\")\n",
    "data = res.json()\n",
    "dict_data = data['Time Series (Digital Currency Daily)']"
   ]
  },
  {
   "cell_type": "markdown",
   "id": "52d522ed",
   "metadata": {},
   "source": [
    "## Working with float as type and Date as type + dropping other columns\n"
   ]
  },
  {
   "cell_type": "code",
   "execution_count": 502,
   "id": "47171e42",
   "metadata": {},
   "outputs": [],
   "source": [
    "features_df = pd.DataFrame.from_dict(dict_data,orient='index')\n",
    "features_df = features_df[features_df.columns.drop(list(features_df.filter(regex='ILS')))]\n",
    "\n",
    "features_df.index.name = 'Date'\n",
    "features_df = features_df.reset_index()\n",
    "features_df.style.format({\"date\": lambda t: t.strftime(\"%d-%m-%Y\")}) \n",
    "features_df[\"4b. close (USD)\"] = features_df[\"4b. close (USD)\"].astype(float).round(2)\n",
    "features_df = features_df.drop(columns = ['1b. open (USD)', '2b. high (USD)','5. volume','6. market cap (USD)','3b. low (USD)'])\n",
    "features_df = features_df.rename(columns = {'4b. close (USD)': 'Close'})\n",
    "features_df =  features_df[::-1].reset_index()\n",
    "# features_df = features_df.drop(features_df.index[300:1000])\n"
   ]
  },
  {
   "cell_type": "code",
   "execution_count": 503,
   "id": "b4814468",
   "metadata": {},
   "outputs": [
    {
     "data": {
      "text/html": [
       "<div>\n",
       "<style scoped>\n",
       "    .dataframe tbody tr th:only-of-type {\n",
       "        vertical-align: middle;\n",
       "    }\n",
       "\n",
       "    .dataframe tbody tr th {\n",
       "        vertical-align: top;\n",
       "    }\n",
       "\n",
       "    .dataframe thead th {\n",
       "        text-align: right;\n",
       "    }\n",
       "</style>\n",
       "<table border=\"1\" class=\"dataframe\">\n",
       "  <thead>\n",
       "    <tr style=\"text-align: right;\">\n",
       "      <th></th>\n",
       "      <th>index</th>\n",
       "      <th>Date</th>\n",
       "      <th>Close</th>\n",
       "    </tr>\n",
       "  </thead>\n",
       "  <tbody>\n",
       "    <tr>\n",
       "      <th>0</th>\n",
       "      <td>999</td>\n",
       "      <td>2018-09-27</td>\n",
       "      <td>6689.13</td>\n",
       "    </tr>\n",
       "    <tr>\n",
       "      <th>1</th>\n",
       "      <td>998</td>\n",
       "      <td>2018-09-28</td>\n",
       "      <td>6634.58</td>\n",
       "    </tr>\n",
       "    <tr>\n",
       "      <th>2</th>\n",
       "      <td>997</td>\n",
       "      <td>2018-09-29</td>\n",
       "      <td>6596.38</td>\n",
       "    </tr>\n",
       "    <tr>\n",
       "      <th>3</th>\n",
       "      <td>996</td>\n",
       "      <td>2018-09-30</td>\n",
       "      <td>6626.57</td>\n",
       "    </tr>\n",
       "    <tr>\n",
       "      <th>4</th>\n",
       "      <td>995</td>\n",
       "      <td>2018-10-01</td>\n",
       "      <td>6611.61</td>\n",
       "    </tr>\n",
       "  </tbody>\n",
       "</table>\n",
       "</div>"
      ],
      "text/plain": [
       "   index        Date    Close\n",
       "0    999  2018-09-27  6689.13\n",
       "1    998  2018-09-28  6634.58\n",
       "2    997  2018-09-29  6596.38\n",
       "3    996  2018-09-30  6626.57\n",
       "4    995  2018-10-01  6611.61"
      ]
     },
     "execution_count": 503,
     "metadata": {},
     "output_type": "execute_result"
    }
   ],
   "source": [
    "features_df.head()"
   ]
  },
  {
   "cell_type": "code",
   "execution_count": 504,
   "id": "7c68aa43",
   "metadata": {},
   "outputs": [
    {
     "data": {
      "text/html": [
       "<div>\n",
       "<style scoped>\n",
       "    .dataframe tbody tr th:only-of-type {\n",
       "        vertical-align: middle;\n",
       "    }\n",
       "\n",
       "    .dataframe tbody tr th {\n",
       "        vertical-align: top;\n",
       "    }\n",
       "\n",
       "    .dataframe thead th {\n",
       "        text-align: right;\n",
       "    }\n",
       "</style>\n",
       "<table border=\"1\" class=\"dataframe\">\n",
       "  <thead>\n",
       "    <tr style=\"text-align: right;\">\n",
       "      <th></th>\n",
       "      <th>index</th>\n",
       "      <th>Date</th>\n",
       "      <th>Close</th>\n",
       "    </tr>\n",
       "  </thead>\n",
       "  <tbody>\n",
       "    <tr>\n",
       "      <th>995</th>\n",
       "      <td>4</td>\n",
       "      <td>2021-06-18</td>\n",
       "      <td>35819.84</td>\n",
       "    </tr>\n",
       "    <tr>\n",
       "      <th>996</th>\n",
       "      <td>3</td>\n",
       "      <td>2021-06-19</td>\n",
       "      <td>35483.72</td>\n",
       "    </tr>\n",
       "    <tr>\n",
       "      <th>997</th>\n",
       "      <td>2</td>\n",
       "      <td>2021-06-20</td>\n",
       "      <td>35600.16</td>\n",
       "    </tr>\n",
       "    <tr>\n",
       "      <th>998</th>\n",
       "      <td>1</td>\n",
       "      <td>2021-06-21</td>\n",
       "      <td>31608.93</td>\n",
       "    </tr>\n",
       "    <tr>\n",
       "      <th>999</th>\n",
       "      <td>0</td>\n",
       "      <td>2021-06-22</td>\n",
       "      <td>31615.71</td>\n",
       "    </tr>\n",
       "  </tbody>\n",
       "</table>\n",
       "</div>"
      ],
      "text/plain": [
       "     index        Date     Close\n",
       "995      4  2021-06-18  35819.84\n",
       "996      3  2021-06-19  35483.72\n",
       "997      2  2021-06-20  35600.16\n",
       "998      1  2021-06-21  31608.93\n",
       "999      0  2021-06-22  31615.71"
      ]
     },
     "execution_count": 504,
     "metadata": {},
     "output_type": "execute_result"
    }
   ],
   "source": [
    "features_df.tail()"
   ]
  },
  {
   "cell_type": "markdown",
   "id": "b8e0ecb3",
   "metadata": {},
   "source": [
    "# Lets look on the past 100 days"
   ]
  },
  {
   "cell_type": "markdown",
   "id": "7ca7cdf8",
   "metadata": {},
   "source": [
    "### Trayding days"
   ]
  },
  {
   "cell_type": "code",
   "execution_count": 505,
   "id": "54d607f3",
   "metadata": {},
   "outputs": [
    {
     "data": {
      "image/png": "[encoded data removed]",
      "text/plain": [
       "<Figure size 432x288 with 1 Axes>"
      ]
     },
     "metadata": {
      "needs_background": "light"
     },
     "output_type": "display_data"
    }
   ],
   "source": [
    "\n",
    "features_df.head()\n",
    "plt.plot(features_df.head(1000)['Close'])\n",
    "plt.show()"
   ]
  },
  {
   "cell_type": "code",
   "execution_count": 506,
   "id": "ac806b71",
   "metadata": {},
   "outputs": [
    {
     "data": {
      "text/plain": [
       "0    6689.13\n",
       "1    6634.58\n",
       "2    6596.38\n",
       "3    6626.57\n",
       "4    6611.61\n",
       "Name: Close, dtype: float64"
      ]
     },
     "execution_count": 506,
     "metadata": {},
     "output_type": "execute_result"
    }
   ],
   "source": [
    "df = features_df['Close']\n",
    "df.head()"
   ]
  },
  {
   "cell_type": "markdown",
   "id": "ef9abdf8",
   "metadata": {},
   "source": [
    "## Predict n days into the future"
   ]
  },
  {
   "cell_type": "code",
   "execution_count": 507,
   "id": "a3a3df9a",
   "metadata": {},
   "outputs": [],
   "source": [
    "future_days = 30"
   ]
  },
  {
   "cell_type": "markdown",
   "id": "d68f3a9e",
   "metadata": {},
   "source": [
    "## Create new column (target) shifted n days"
   ]
  },
  {
   "cell_type": "code",
   "execution_count": 508,
   "id": "3d9719d0",
   "metadata": {},
   "outputs": [
    {
     "data": {
      "text/html": [
       "<div>\n",
       "<style scoped>\n",
       "    .dataframe tbody tr th:only-of-type {\n",
       "        vertical-align: middle;\n",
       "    }\n",
       "\n",
       "    .dataframe tbody tr th {\n",
       "        vertical-align: top;\n",
       "    }\n",
       "\n",
       "    .dataframe thead th {\n",
       "        text-align: right;\n",
       "    }\n",
       "</style>\n",
       "<table border=\"1\" class=\"dataframe\">\n",
       "  <thead>\n",
       "    <tr style=\"text-align: right;\">\n",
       "      <th></th>\n",
       "      <th>index</th>\n",
       "      <th>Date</th>\n",
       "      <th>Close</th>\n",
       "      <th>Prediction</th>\n",
       "    </tr>\n",
       "  </thead>\n",
       "  <tbody>\n",
       "    <tr>\n",
       "      <th>0</th>\n",
       "      <td>999</td>\n",
       "      <td>2018-09-27</td>\n",
       "      <td>6689.13</td>\n",
       "      <td>6505.60</td>\n",
       "    </tr>\n",
       "    <tr>\n",
       "      <th>1</th>\n",
       "      <td>998</td>\n",
       "      <td>2018-09-28</td>\n",
       "      <td>6634.58</td>\n",
       "      <td>6489.93</td>\n",
       "    </tr>\n",
       "    <tr>\n",
       "      <th>2</th>\n",
       "      <td>997</td>\n",
       "      <td>2018-09-29</td>\n",
       "      <td>6596.38</td>\n",
       "      <td>6344.50</td>\n",
       "    </tr>\n",
       "    <tr>\n",
       "      <th>3</th>\n",
       "      <td>996</td>\n",
       "      <td>2018-09-30</td>\n",
       "      <td>6626.57</td>\n",
       "      <td>6330.87</td>\n",
       "    </tr>\n",
       "    <tr>\n",
       "      <th>4</th>\n",
       "      <td>995</td>\n",
       "      <td>2018-10-01</td>\n",
       "      <td>6611.61</td>\n",
       "      <td>6371.93</td>\n",
       "    </tr>\n",
       "    <tr>\n",
       "      <th>5</th>\n",
       "      <td>994</td>\n",
       "      <td>2018-10-02</td>\n",
       "      <td>6525.79</td>\n",
       "      <td>6410.00</td>\n",
       "    </tr>\n",
       "    <tr>\n",
       "      <th>6</th>\n",
       "      <td>993</td>\n",
       "      <td>2018-10-03</td>\n",
       "      <td>6510.00</td>\n",
       "      <td>6433.98</td>\n",
       "    </tr>\n",
       "    <tr>\n",
       "      <th>7</th>\n",
       "      <td>992</td>\n",
       "      <td>2018-10-04</td>\n",
       "      <td>6593.79</td>\n",
       "      <td>6387.09</td>\n",
       "    </tr>\n",
       "    <tr>\n",
       "      <th>8</th>\n",
       "      <td>991</td>\n",
       "      <td>2018-10-05</td>\n",
       "      <td>6635.65</td>\n",
       "      <td>6485.85</td>\n",
       "    </tr>\n",
       "    <tr>\n",
       "      <th>9</th>\n",
       "      <td>990</td>\n",
       "      <td>2018-10-06</td>\n",
       "      <td>6594.27</td>\n",
       "      <td>6468.99</td>\n",
       "    </tr>\n",
       "    <tr>\n",
       "      <th>10</th>\n",
       "      <td>989</td>\n",
       "      <td>2018-10-07</td>\n",
       "      <td>6615.26</td>\n",
       "      <td>6519.11</td>\n",
       "    </tr>\n",
       "    <tr>\n",
       "      <th>11</th>\n",
       "      <td>988</td>\n",
       "      <td>2018-10-08</td>\n",
       "      <td>6673.01</td>\n",
       "      <td>6578.46</td>\n",
       "    </tr>\n",
       "    <tr>\n",
       "      <th>12</th>\n",
       "      <td>987</td>\n",
       "      <td>2018-10-09</td>\n",
       "      <td>6656.61</td>\n",
       "      <td>6479.84</td>\n",
       "    </tr>\n",
       "    <tr>\n",
       "      <th>13</th>\n",
       "      <td>986</td>\n",
       "      <td>2018-10-10</td>\n",
       "      <td>6631.00</td>\n",
       "      <td>6419.99</td>\n",
       "    </tr>\n",
       "    <tr>\n",
       "      <th>14</th>\n",
       "      <td>985</td>\n",
       "      <td>2018-10-11</td>\n",
       "      <td>6252.68</td>\n",
       "      <td>6433.05</td>\n",
       "    </tr>\n",
       "    <tr>\n",
       "      <th>15</th>\n",
       "      <td>984</td>\n",
       "      <td>2018-10-12</td>\n",
       "      <td>6298.01</td>\n",
       "      <td>6449.81</td>\n",
       "    </tr>\n",
       "    <tr>\n",
       "      <th>16</th>\n",
       "      <td>983</td>\n",
       "      <td>2018-10-13</td>\n",
       "      <td>6332.93</td>\n",
       "      <td>6453.07</td>\n",
       "    </tr>\n",
       "    <tr>\n",
       "      <th>17</th>\n",
       "      <td>982</td>\n",
       "      <td>2018-10-14</td>\n",
       "      <td>6339.34</td>\n",
       "      <td>6457.66</td>\n",
       "    </tr>\n",
       "    <tr>\n",
       "      <th>18</th>\n",
       "      <td>981</td>\n",
       "      <td>2018-10-15</td>\n",
       "      <td>6752.50</td>\n",
       "      <td>5922.41</td>\n",
       "    </tr>\n",
       "    <tr>\n",
       "      <th>19</th>\n",
       "      <td>980</td>\n",
       "      <td>2018-10-16</td>\n",
       "      <td>6759.27</td>\n",
       "      <td>5753.40</td>\n",
       "    </tr>\n",
       "    <tr>\n",
       "      <th>20</th>\n",
       "      <td>979</td>\n",
       "      <td>2018-10-17</td>\n",
       "      <td>6740.89</td>\n",
       "      <td>5655.94</td>\n",
       "    </tr>\n",
       "    <tr>\n",
       "      <th>21</th>\n",
       "      <td>978</td>\n",
       "      <td>2018-10-18</td>\n",
       "      <td>6618.96</td>\n",
       "      <td>5628.29</td>\n",
       "    </tr>\n",
       "    <tr>\n",
       "      <th>22</th>\n",
       "      <td>977</td>\n",
       "      <td>2018-10-19</td>\n",
       "      <td>6528.88</td>\n",
       "      <td>5662.00</td>\n",
       "    </tr>\n",
       "    <tr>\n",
       "      <th>23</th>\n",
       "      <td>976</td>\n",
       "      <td>2018-10-20</td>\n",
       "      <td>6588.40</td>\n",
       "      <td>4910.03</td>\n",
       "    </tr>\n",
       "    <tr>\n",
       "      <th>24</th>\n",
       "      <td>975</td>\n",
       "      <td>2018-10-21</td>\n",
       "      <td>6590.11</td>\n",
       "      <td>4558.86</td>\n",
       "    </tr>\n",
       "    <tr>\n",
       "      <th>25</th>\n",
       "      <td>974</td>\n",
       "      <td>2018-10-22</td>\n",
       "      <td>6581.20</td>\n",
       "      <td>4661.07</td>\n",
       "    </tr>\n",
       "    <tr>\n",
       "      <th>26</th>\n",
       "      <td>973</td>\n",
       "      <td>2018-10-23</td>\n",
       "      <td>6553.51</td>\n",
       "      <td>4370.00</td>\n",
       "    </tr>\n",
       "    <tr>\n",
       "      <th>27</th>\n",
       "      <td>972</td>\n",
       "      <td>2018-10-24</td>\n",
       "      <td>6565.50</td>\n",
       "      <td>4420.61</td>\n",
       "    </tr>\n",
       "    <tr>\n",
       "      <th>28</th>\n",
       "      <td>971</td>\n",
       "      <td>2018-10-25</td>\n",
       "      <td>6528.09</td>\n",
       "      <td>3932.44</td>\n",
       "    </tr>\n",
       "    <tr>\n",
       "      <th>29</th>\n",
       "      <td>970</td>\n",
       "      <td>2018-10-26</td>\n",
       "      <td>6538.63</td>\n",
       "      <td>4085.78</td>\n",
       "    </tr>\n",
       "    <tr>\n",
       "      <th>30</th>\n",
       "      <td>969</td>\n",
       "      <td>2018-10-27</td>\n",
       "      <td>6505.60</td>\n",
       "      <td>3862.20</td>\n",
       "    </tr>\n",
       "    <tr>\n",
       "      <th>31</th>\n",
       "      <td>968</td>\n",
       "      <td>2018-10-28</td>\n",
       "      <td>6489.93</td>\n",
       "      <td>3875.21</td>\n",
       "    </tr>\n",
       "  </tbody>\n",
       "</table>\n",
       "</div>"
      ],
      "text/plain": [
       "    index        Date    Close  Prediction\n",
       "0     999  2018-09-27  6689.13     6505.60\n",
       "1     998  2018-09-28  6634.58     6489.93\n",
       "2     997  2018-09-29  6596.38     6344.50\n",
       "3     996  2018-09-30  6626.57     6330.87\n",
       "4     995  2018-10-01  6611.61     6371.93\n",
       "5     994  2018-10-02  6525.79     6410.00\n",
       "6     993  2018-10-03  6510.00     6433.98\n",
       "7     992  2018-10-04  6593.79     6387.09\n",
       "8     991  2018-10-05  6635.65     6485.85\n",
       "9     990  2018-10-06  6594.27     6468.99\n",
       "10    989  2018-10-07  6615.26     6519.11\n",
       "11    988  2018-10-08  6673.01     6578.46\n",
       "12    987  2018-10-09  6656.61     6479.84\n",
       "13    986  2018-10-10  6631.00     6419.99\n",
       "14    985  2018-10-11  6252.68     6433.05\n",
       "15    984  2018-10-12  6298.01     6449.81\n",
       "16    983  2018-10-13  6332.93     6453.07\n",
       "17    982  2018-10-14  6339.34     6457.66\n",
       "18    981  2018-10-15  6752.50     5922.41\n",
       "19    980  2018-10-16  6759.27     5753.40\n",
       "20    979  2018-10-17  6740.89     5655.94\n",
       "21    978  2018-10-18  6618.96     5628.29\n",
       "22    977  2018-10-19  6528.88     5662.00\n",
       "23    976  2018-10-20  6588.40     4910.03\n",
       "24    975  2018-10-21  6590.11     4558.86\n",
       "25    974  2018-10-22  6581.20     4661.07\n",
       "26    973  2018-10-23  6553.51     4370.00\n",
       "27    972  2018-10-24  6565.50     4420.61\n",
       "28    971  2018-10-25  6528.09     3932.44\n",
       "29    970  2018-10-26  6538.63     4085.78\n",
       "30    969  2018-10-27  6505.60     3862.20\n",
       "31    968  2018-10-28  6489.93     3875.21"
      ]
     },
     "execution_count": 508,
     "metadata": {},
     "output_type": "execute_result"
    }
   ],
   "source": [
    "features_df['Prediction'] = features_df[['Close']].shift(-future_days)\n",
    "features_df.head(32)"
   ]
  },
  {
   "cell_type": "code",
   "execution_count": 509,
   "id": "f2dff306",
   "metadata": {},
   "outputs": [
    {
     "data": {
      "text/html": [
       "<div>\n",
       "<style scoped>\n",
       "    .dataframe tbody tr th:only-of-type {\n",
       "        vertical-align: middle;\n",
       "    }\n",
       "\n",
       "    .dataframe tbody tr th {\n",
       "        vertical-align: top;\n",
       "    }\n",
       "\n",
       "    .dataframe thead th {\n",
       "        text-align: right;\n",
       "    }\n",
       "</style>\n",
       "<table border=\"1\" class=\"dataframe\">\n",
       "  <thead>\n",
       "    <tr style=\"text-align: right;\">\n",
       "      <th></th>\n",
       "      <th>index</th>\n",
       "      <th>Date</th>\n",
       "      <th>Close</th>\n",
       "      <th>Prediction</th>\n",
       "    </tr>\n",
       "  </thead>\n",
       "  <tbody>\n",
       "    <tr>\n",
       "      <th>995</th>\n",
       "      <td>4</td>\n",
       "      <td>2021-06-18</td>\n",
       "      <td>35819.84</td>\n",
       "      <td>NaN</td>\n",
       "    </tr>\n",
       "    <tr>\n",
       "      <th>996</th>\n",
       "      <td>3</td>\n",
       "      <td>2021-06-19</td>\n",
       "      <td>35483.72</td>\n",
       "      <td>NaN</td>\n",
       "    </tr>\n",
       "    <tr>\n",
       "      <th>997</th>\n",
       "      <td>2</td>\n",
       "      <td>2021-06-20</td>\n",
       "      <td>35600.16</td>\n",
       "      <td>NaN</td>\n",
       "    </tr>\n",
       "    <tr>\n",
       "      <th>998</th>\n",
       "      <td>1</td>\n",
       "      <td>2021-06-21</td>\n",
       "      <td>31608.93</td>\n",
       "      <td>NaN</td>\n",
       "    </tr>\n",
       "    <tr>\n",
       "      <th>999</th>\n",
       "      <td>0</td>\n",
       "      <td>2021-06-22</td>\n",
       "      <td>31615.71</td>\n",
       "      <td>NaN</td>\n",
       "    </tr>\n",
       "  </tbody>\n",
       "</table>\n",
       "</div>"
      ],
      "text/plain": [
       "     index        Date     Close  Prediction\n",
       "995      4  2021-06-18  35819.84         NaN\n",
       "996      3  2021-06-19  35483.72         NaN\n",
       "997      2  2021-06-20  35600.16         NaN\n",
       "998      1  2021-06-21  31608.93         NaN\n",
       "999      0  2021-06-22  31615.71         NaN"
      ]
     },
     "execution_count": 509,
     "metadata": {},
     "output_type": "execute_result"
    }
   ],
   "source": [
    "features_df.tail()"
   ]
  },
  {
   "cell_type": "markdown",
   "id": "2cd7b457",
   "metadata": {},
   "source": [
    "## Let's split the data to X & y"
   ]
  },
  {
   "cell_type": "code",
   "execution_count": 510,
   "id": "f545c6a0",
   "metadata": {},
   "outputs": [
    {
     "name": "stdout",
     "output_type": "stream",
     "text": [
      "[[9.990000e+02 6.689130e+03]\n",
      " [9.980000e+02 6.634580e+03]\n",
      " [9.970000e+02 6.596380e+03]\n",
      " ...\n",
      " [3.200000e+01 3.725201e+04]\n",
      " [3.100000e+01 3.744973e+04]\n",
      " [3.000000e+01 3.465525e+04]]\n"
     ]
    }
   ],
   "source": [
    "X = np.array(features_df.drop(['Prediction','Date'],1))[:-future_days]\n",
    "print(X)"
   ]
  },
  {
   "cell_type": "code",
   "execution_count": 511,
   "id": "5e16f4aa",
   "metadata": {},
   "outputs": [
    {
     "name": "stdout",
     "output_type": "stream",
     "text": [
      "[ 6505.6   6489.93  6344.5   6330.87  6371.93  6410.    6433.98  6387.09\n",
      "  6485.85  6468.99  6519.11  6578.46  6479.84  6419.99  6433.05  6449.81\n",
      "  6453.07  6457.66  5922.41  5753.4   5655.94  5628.29  5662.    4910.03\n",
      "  4558.86  4661.07  4370.    4420.61  3932.44  4085.78  3862.2   3875.21\n",
      "  4264.85  4295.84  4041.32  4190.02  4161.01  3884.01  3951.64  3769.84\n",
      "  3508.75  3403.55  3410.93  3545.37  3432.88  3380.39  3445.    3302.06\n",
      "  3224.17  3211.72  3228.67  3509.08  3652.98  3662.22  4049.62  3838.66\n",
      "  3948.91  3929.71  4008.01  3745.79  3777.74  3567.91  3839.26  3695.32\n",
      "  3801.91  3702.9   3797.14  3858.56  3766.78  3792.01  3770.96  3987.6\n",
      "  3975.45  3955.13  3966.65  3585.88  3601.31  3583.13  3476.81  3626.09\n",
      "  3553.06  3591.84  3616.21  3594.87  3665.3   3539.28  3526.9   3570.93\n",
      "  3552.82  3569.62  3565.29  3565.25  3550.84  3434.15  3411.04  3458.18\n",
      "  3434.1   3462.07  3504.77  3458.11  3463.22  3471.59  3405.37  3398.4\n",
      "  3659.04  3665.18  3680.06  3631.05  3631.46  3609.4   3590.56  3602.47\n",
      "  3618.41  3667.58  3898.6   3907.79  3969.74  3937.31  3962.    4117.76\n",
      "  3743.56  3827.92  3809.23  3818.07  3813.69  3823.    3819.93  3807.75\n",
      "  3715.3   3857.73  3861.84  3873.64  3864.89  3943.04  3916.82  3871.61\n",
      "  3882.73  3866.    3877.12  3923.76  4005.98  3981.14  3987.81  4015.53\n",
      "  4043.04  3980.64  3986.93  4006.01  3992.18  3936.12  3948.55  4038.05\n",
      "  4027.81  4103.25  4106.97  4103.95  4144.56  4857.29  4932.6   4898.66\n",
      "  5004.95  5043.89  5170.27  5236.9   5150.    5308.25  5017.37  5048.01\n",
      "  5045.22  5131.3   5024.95  5173.72  5202.82  5258.44  5258.68  5291.73\n",
      "  5256.14  5357.14  5493.31  5415.    5219.9   5314.1   5295.69  5307.52\n",
      "  5238.14  5320.81  5383.2   5492.87  5772.69  5829.45  5775.62  5747.79\n",
      "  5846.34  5987.29  6209.18  6373.33  7076.22  6967.31  7790.71  7947.56\n",
      "  8169.87  7866.59  7355.26  7257.45  8148.48  7938.15  7904.87  7628.43\n",
      "  7851.51  7964.87  8025.41  8614.43  8756.32  8715.64  8645.68  8269.54\n",
      "  8555.    8544.07  8725.98  8115.82  7687.03  7776.5   7786.7   7980.53\n",
      "  7893.62  7628.13  7982.75  7884.9   8127.64  8218.54  8650.    8808.7\n",
      "  8953.33  9313.96  9081.55  9255.49  9517.12 10159.86 10729.5  10906.07\n",
      " 11056.59 11820.86 13093.8  11329.99 12400.63 11903.13 10854.1  10624.93\n",
      " 10842.85 11940.   11145.67 10970.73 11256.49 11406.24 12238.6  12543.41\n",
      " 12108.37 11342.89 11757.22 11355.76 10174.18 10838.72  9439.59  9667.92\n",
      " 10627.16 10504.29 10740.23 10589.45 10340.31  9864.91  9763.28  9879.87\n",
      "  9824.    9476.52  9541.54  9507.64  9574.21 10080.53 10374.99 10523.75\n",
      " 10816.86 10929.23 11828.8  11481.69 11975.03 11999.77 11879.99 11309.31\n",
      " 11549.97 11396.08 10892.71 10050.37 10293.93 10331.54 10216.02 10306.78\n",
      " 10915.54 10760.51 10142.57 10099.88 10389.55 10134.35 10142.69 10372.25\n",
      " 10185.05  9721.    9498.44  9584.54  9587.47  9724.98 10340.   10615.28\n",
      " 10567.02 10564.49 10298.73 10455.88 10381.18 10303.12 10098.15 10158.33\n",
      " 10415.01 10342.06 10335.02 10302.01 10251.31 10187.82 10156.99 10244.29\n",
      " 10168.59  9986.39 10028.87  9702.25  8493.14  8430.05  8063.73  8177.91\n",
      "  8198.81  8043.82  8289.34  8292.44  8359.94  8223.96  8137.13  8126.19\n",
      "  7854.25  8190.09  8168.39  8560.74  8558.03  8258.5   8300.09  8275.01\n",
      "  8348.2   8159.29  7991.74  8070.58  7947.01  7948.01  8223.35  8197.27\n",
      "  8020.    7466.62  7412.41  8655.02  9230.    9529.93  9205.14  9407.62\n",
      "  9154.72  9140.85  9231.61  9289.52  9194.71  9393.35  9308.66  9339.05\n",
      "  9216.2   8773.73  8809.41  9039.47  8733.27  8821.94  8777.12  8646.68\n",
      "  8471.73  8491.02  8502.4   8187.17  8133.64  8098.01  7627.74  7268.23\n",
      "  7311.57  6903.28  7109.57  7156.14  7508.52  7419.49  7739.68  7541.89\n",
      "  7390.89  7294.28  7292.71  7194.32  7389.    7527.47  7488.21  7510.11\n",
      "  7338.64  7224.13  7210.    7198.08  7258.48  7064.05  7118.59  6891.72\n",
      "  6623.82  7277.83  7150.3   7187.83  7132.75  7501.44  7317.09  7255.77\n",
      "  7204.63  7202.    7254.74  7316.14  7388.24  7246.    7195.23  7200.85\n",
      "  6965.71  7344.96  7354.11  7358.75  7758.    8145.28  8055.98  7817.76\n",
      "  8197.02  8020.01  8184.98  8110.34  8810.01  8821.41  8720.01  8913.28\n",
      "  8915.96  8701.7   8642.35  8736.03  8682.36  8404.52  8439.    8340.58\n",
      "  8615.    8907.57  9374.21  9301.53  9513.21  9352.89  9384.61  9331.51\n",
      "  9292.24  9197.02  9612.04  9772.    9813.73  9895.05 10151.75  9851.83\n",
      " 10223.08 10326.46 10229.63 10344.36  9904.72  9917.27  9706.   10164.71\n",
      "  9593.79  9596.42  9677.05  9650.86  9936.4   9656.13  9315.84  8785.25\n",
      "  8823.21  8692.91  8523.61  8531.88  8915.24  8760.07  8750.87  9054.68\n",
      "  9131.88  8886.66  8033.31  7929.87  7894.56  7934.52  4800.    5578.6\n",
      "  5172.06  5361.3   5028.97  5312.64  5393.04  6162.37  6208.36  6186.98\n",
      "  5816.19  6467.31  6744.72  6677.43  6737.36  6359.11  6236.65  5881.42\n",
      "  6394.38  6410.44  6642.92  6794.09  6734.1   6856.99  6772.78  7329.9\n",
      "  7197.32  7361.28  7283.54  6858.92  6876.83  6903.79  6837.91  6868.7\n",
      "  6621.24  7101.94  7027.55  7248.6   7120.74  6826.83  6841.37  7125.14\n",
      "  7482.39  7505.    7538.67  7693.1   7774.62  7738.98  8778.57  8620.\n",
      "  8826.96  8972.05  8894.16  8871.96  9021.83  9142.92  9986.4   9800.01\n",
      "  9539.4   8722.77  8561.52  8810.79  9309.37  9791.98  9316.42  9381.27\n",
      "  9680.04  9733.93  9775.53  9511.43  9068.65  9170.    9179.15  8720.34\n",
      "  8900.35  8841.18  9204.07  9575.89  9427.07  9697.72  9448.27 10200.77\n",
      "  9518.04  9666.24  9789.06  9621.16  9666.3   9746.99  9782.01  9772.43\n",
      "  9885.    9280.4   9465.13  9473.34  9342.1   9426.02  9525.59  9465.14\n",
      "  9386.32  9310.23  9358.95  9294.69  9685.69  9624.89  9296.49  9249.49\n",
      "  9162.21  9012.    9116.35  9192.56  9138.55  9232.    9086.54  9058.26\n",
      "  9135.46  9069.41  9344.2   9257.39  9436.06  9232.43  9288.34  9234.03\n",
      "  9302.75  9242.62  9255.85  9197.6   9133.72  9154.32  9170.28  9208.99\n",
      "  9160.78  9390.    9518.16  9603.27  9537.8   9700.42  9931.54 11029.96\n",
      " 10906.27 11100.53 11099.61 11335.46 11801.17 11071.35 11219.81 11191.97\n",
      " 11744.91 11762.46 11594.23 11761.41 11681.68 11892.92 11392.08 11564.33\n",
      " 11780.   11760.54 11852.4  11911.   12281.13 11945.01 11754.59 11853.55\n",
      " 11531.34 11662.96 11648.13 11748.2  11318.42 11461.43 11330.38 11526.91\n",
      " 11465.84 11711.16 11649.51 11921.97 11388.54 10140.85 10446.25 10166.69\n",
      " 10256.2  10373.44 10126.65 10219.2  10336.87 10387.89 10440.92 10332.83\n",
      " 10671.77 10785.31 10954.01 10939.99 10933.39 11080.65 10920.28 10417.22\n",
      " 10529.61 10241.46 10736.32 10686.67 10728.6  10774.25 10696.12 10840.48\n",
      " 10776.59 10619.13 10570.4  10542.06 10666.63 10792.21 10599.66 10666.39\n",
      " 10925.57 11050.64 11293.22 11369.02 11528.25 11420.56 11417.89 11505.12\n",
      " 11319.32 11360.2  11503.14 11751.47 11909.99 12780.96 12968.52 12923.07\n",
      " 13111.73 13028.83 13052.19 13636.17 13266.4  13455.7  13560.1  13791.\n",
      " 13761.5  13549.37 14023.53 14144.01 15590.02 15579.92 14818.3  15475.1\n",
      " 15328.41 15297.21 15684.24 16291.86 16320.7  16070.45 15957.   16713.57\n",
      " 17659.38 17776.12 17802.82 18655.67 18703.8  18414.43 18368.   19160.01\n",
      " 18719.11 17149.47 17139.52 17719.85 18184.99 19695.87 18764.96 19204.09\n",
      " 19421.9  18650.52 19147.66 19359.4  19166.9  18324.11 18541.28 18254.63\n",
      " 18036.53 18808.69 19174.99 19273.14 19426.43 21335.52 22797.16 23107.39\n",
      " 23821.61 23455.52 22719.71 23810.79 23232.76 23729.2  24712.47 26493.39\n",
      " 26281.66 27079.41 27385.   28875.54 28923.63 29331.69 32178.33 33000.05\n",
      " 31988.71 33949.53 36769.36 39432.28 40582.81 40088.22 38150.02 35404.47\n",
      " 34051.24 37371.38 39144.5  36742.22 35994.98 35828.61 36631.27 35891.49\n",
      " 35468.23 30850.13 32945.17 32078.   32259.9  32254.2  32467.77 30366.15\n",
      " 33364.86 34252.2  34262.88 33092.98 33526.37 35466.24 37618.87 36936.66\n",
      " 38290.24 39186.94 38795.69 46374.87 46420.42 44807.58 47969.51 47287.6\n",
      " 47153.69 48577.79 47911.1  49133.45 52119.71 51552.6  55906.   55841.19\n",
      " 57408.57 54087.67 48891.   49676.2  47073.73 46276.87 46106.43 45135.66\n",
      " 49587.03 48440.65 50349.37 48374.09 48751.71 48882.2  50971.75 52375.17\n",
      " 54884.5  55851.59 57773.16 57221.72 61188.39 58968.31 55605.2  56900.75\n",
      " 58912.97 57648.16 58030.01 58102.28 57351.56 54083.25 54340.89 52303.65\n",
      " 51293.78 55025.59 55817.14 55777.63 57635.47 58746.57 58740.55 58720.44\n",
      " 58950.01 57051.94 58202.01 59129.99 57991.15 55953.45 58077.52 58142.54\n",
      " 59769.13 60002.43 59860.   63575.   62959.53 63159.98 61334.8  60006.66\n",
      " 56150.01 55633.14 56425.   53787.63 51690.96 51125.14 50047.84 49066.77\n",
      " 54001.39 55011.97 54846.22 53555.   57694.27 57800.37 56578.21 57169.39\n",
      " 53200.01 57436.11 56393.68 57314.75 58862.05 58240.84 55816.14 56670.02\n",
      " 49631.32 49670.97 49841.45 46762.99 46431.5  43538.04 42849.78 36690.09\n",
      " 40526.64 37252.01 37449.73 34655.25 38796.29 38324.72 39241.91 38529.98\n",
      " 35663.49 34605.15 35641.27 37253.81 36693.09 37568.68 39246.79 36829.\n",
      " 35513.2  35796.31 33552.79 33380.81 37388.05 36675.72 37331.98 35546.11\n",
      " 39020.57 40516.29 40144.04 38349.01 38092.97 35819.84 35483.72 35600.16\n",
      " 31608.93 31615.71]\n"
     ]
    }
   ],
   "source": [
    "y = np.array(features_df['Prediction'])[:-future_days]\n",
    "print(y)"
   ]
  },
  {
   "cell_type": "code",
   "execution_count": 512,
   "id": "f30c5585",
   "metadata": {},
   "outputs": [],
   "source": [
    "X_train,X_test,y_train,y_test = train_test_split(X,y,test_size=0.2)"
   ]
  },
  {
   "cell_type": "markdown",
   "id": "46514b1c",
   "metadata": {},
   "source": [
    "## Let's create our models"
   ]
  },
  {
   "cell_type": "code",
   "execution_count": 513,
   "id": "7cf35ff4",
   "metadata": {},
   "outputs": [],
   "source": [
    "models = {\"LinearRegression\": LinearRegression(), \"DecisionTreeRegressor\": DecisionTreeRegressor()}\n",
    "\n",
    "def model_iteration(models, X_train,X_test,y_train,y_test):\n",
    "    np.random.seed(42)\n",
    "    model_scores = {}\n",
    "    for model,model_exec in models.items():\n",
    "        model_exec.fit(X_train,y_train)\n",
    "        model_scores[model] = model_exec.score(X_test,y_test)\n",
    "    return model_scores\n",
    "# tree = DecisionTreeRegressor().fit(X_train,y_train)\n",
    "# lr = LinearRegression().fit(X_train,y_train)\n"
   ]
  },
  {
   "cell_type": "code",
   "execution_count": 514,
   "id": "b5c0c841",
   "metadata": {},
   "outputs": [
    {
     "data": {
      "text/plain": [
       "{'LinearRegression': 0.8863824268319387,\n",
       " 'DecisionTreeRegressor': 0.9918814591745662}"
      ]
     },
     "execution_count": 514,
     "metadata": {},
     "output_type": "execute_result"
    }
   ],
   "source": [
    "model_score = model_iteration(models,X_train,X_test,y_train,y_test)\n",
    "model_score\n",
    "\n"
   ]
  },
  {
   "cell_type": "code",
   "execution_count": 515,
   "id": "f40718ae",
   "metadata": {},
   "outputs": [
    {
     "data": {
      "text/plain": [
       "(array([0, 1]),\n",
       " [Text(0, 0, 'LinearRegression'), Text(1, 0, 'DecisionTreeRegressor')])"
      ]
     },
     "execution_count": 515,
     "metadata": {},
     "output_type": "execute_result"
    },
    {
     "data": {
      "image/png": "[encoded data removed]",
      "text/plain": [
       "<Figure size 432x288 with 1 Axes>"
      ]
     },
     "metadata": {
      "needs_background": "light"
     },
     "output_type": "display_data"
    }
   ],
   "source": [
    "model_score_df = pd.DataFrame.from_dict(model_score,orient='index')\n",
    "model_score_df.plot.bar()\n",
    "plt.xticks(rotation=0)"
   ]
  },
  {
   "cell_type": "markdown",
   "id": "13d1b9da",
   "metadata": {},
   "source": [
    "## Create the prediction rows and compare by model"
   ]
  },
  {
   "cell_type": "code",
   "execution_count": 516,
   "id": "8f6a670e",
   "metadata": {},
   "outputs": [],
   "source": [
    "x_future = features_df.drop(['Prediction','Date'],1)[:-future_days]\n",
    "x_future = x_future.tail(future_days)\n",
    "x_future = np.array(x_future)\n"
   ]
  },
  {
   "cell_type": "markdown",
   "id": "ac47e423",
   "metadata": {},
   "source": [
    "# Predction Function"
   ]
  },
  {
   "cell_type": "code",
   "execution_count": 517,
   "id": "58f6419f",
   "metadata": {},
   "outputs": [],
   "source": [
    "def predict_by_model(model,X_train,y_train):\n",
    "    np.random.seed(42)\n",
    "    models = {\"LinearRegression\": LinearRegression(), \"DecisionTreeRegressor\": DecisionTreeRegressor()}\n",
    "    valid = features_df[X.shape[0]:]\n",
    "    models[model].fit(X_train,y_train)\n",
    "    predictions = models[model].predict(x_future)\n",
    "    valid['Prediction'] = predictions\n",
    "    plt.figure(figsize=(16,8))\n",
    "    plt.title('Model')\n",
    "    plt.xlabel('Days')\n",
    "    plt.ylabel('Close price USD')\n",
    "    plt.plot(features_df['Close'])\n",
    "    plt.plot(valid[['Close','Prediction']])\n",
    "    plt.legend(['Original','Value','Prediction'])\n",
    "    plt.show()\n"
   ]
  },
  {
   "cell_type": "markdown",
   "id": "58ee4ba7",
   "metadata": {},
   "source": [
    "# LinearRegression"
   ]
  },
  {
   "cell_type": "code",
   "execution_count": 518,
   "id": "9cde5019",
   "metadata": {},
   "outputs": [
    {
     "name": "stderr",
     "output_type": "stream",
     "text": [
      "<ipython-input-517-0bdfa0c71e2c>:7: SettingWithCopyWarning: \n",
      "A value is trying to be set on a copy of a slice from a DataFrame.\n",
      "Try using .loc[row_indexer,col_indexer] = value instead\n",
      "\n",
      "See the caveats in the documentation: https://pandas.pydata.org/pandas-docs/stable/user_guide/indexing.html#returning-a-view-versus-a-copy\n",
      "  valid['Prediction'] = predictions\n"
     ]
    },
    {
     "data": {
      "image/png": "[encoded data removed]",
      "text/plain": [
       "<Figure size 1152x576 with 1 Axes>"
      ]
     },
     "metadata": {
      "needs_background": "light"
     },
     "output_type": "display_data"
    }
   ],
   "source": [
    "predict_by_model('LinearRegression',X_train,y_train)"
   ]
  },
  {
   "cell_type": "markdown",
   "id": "4169451e",
   "metadata": {},
   "source": [
    "# Let's try to do the same with DecisionTreeRegressor"
   ]
  },
  {
   "cell_type": "code",
   "execution_count": 501,
   "id": "638e7bc2",
   "metadata": {},
   "outputs": [
    {
     "name": "stderr",
     "output_type": "stream",
     "text": [
      "<ipython-input-499-0bdfa0c71e2c>:7: SettingWithCopyWarning: \n",
      "A value is trying to be set on a copy of a slice from a DataFrame.\n",
      "Try using .loc[row_indexer,col_indexer] = value instead\n",
      "\n",
      "See the caveats in the documentation: https://pandas.pydata.org/pandas-docs/stable/user_guide/indexing.html#returning-a-view-versus-a-copy\n",
      "  valid['Prediction'] = predictions\n"
     ]
    },
    {
     "data": {
      "image/png": "[encoded data removed]",
      "text/plain": [
       "<Figure size 1152x576 with 1 Axes>"
      ]
     },
     "metadata": {
      "needs_background": "light"
     },
     "output_type": "display_data"
    }
   ],
   "source": [
    "predict_by_model('DecisionTreeRegressor',X_train,y_train)"
   ]
  },
  {
   "cell_type": "code",
   "execution_count": null,
   "id": "68695be9",
   "metadata": {},
   "outputs": [],
   "source": []
  },
  {
   "cell_type": "code",
   "execution_count": null,
   "id": "247a8e41",
   "metadata": {},
   "outputs": [],
   "source": []
  },
  {
   "cell_type": "code",
   "execution_count": null,
   "id": "a7bac67a",
   "metadata": {},
   "outputs": [],
   "source": []
  },
  {
   "cell_type": "code",
   "execution_count": null,
   "id": "426ee9ac",
   "metadata": {},
   "outputs": [],
   "source": []
  }
 ],
 "metadata": {
  "kernelspec": {
   "display_name": "Python 3",
   "language": "python",
   "name": "python3"
  },
  "language_info": {
   "codemirror_mode": {
    "name": "ipython",
    "version": 3
   },
   "file_extension": ".py",
   "mimetype": "text/x-python",
   "name": "python",
   "nbconvert_exporter": "python",
   "pygments_lexer": "ipython3",
   "version": "3.8.8"
  }
 },
 "nbformat": 4,
 "nbformat_minor": 5
}
