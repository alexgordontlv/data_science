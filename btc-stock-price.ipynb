{
 "cells": [
  {
   "cell_type": "code",
   "execution_count": 2,
   "id": "42f7013c",
   "metadata": {},
   "outputs": [],
   "source": [
    "import requests\n",
    "import numpy as np \n",
    "import pandas as pd \n",
    "import matplotlib.pyplot as plt\n",
    "import seaborn as sns \n",
    "%matplotlib inline \n",
    "\n",
    "from sklearn.linear_model import LinearRegression\n",
    "from sklearn.tree import DecisionTreeRegressor\n",
    "from sklearn.ensemble import RandomForestClassifier\n",
    "\n",
    "from sklearn.model_selection import train_test_split, cross_val_score\n",
    "from sklearn.model_selection import RandomizedSearchCV, GridSearchCV\n",
    "from sklearn.metrics import confusion_matrix, classification_report\n",
    "from sklearn.metrics import precision_score, recall_score, f1_score\n",
    "from sklearn.metrics import plot_roc_curve"
   ]
  },
  {
   "cell_type": "markdown",
   "id": "abe46e50",
   "metadata": {},
   "source": [
    "# Get the data from CryptoAPI"
   ]
  },
  {
   "cell_type": "code",
   "execution_count": 3,
   "id": "3319015d",
   "metadata": {},
   "outputs": [],
   "source": [
    "res = requests.get(\"https://www.alphavantage.co/query?function=DIGITAL_CURRENCY_DAILY&symbol=BTC&market=ILS&apikey=$demo\")\n",
    "data = res.json()\n",
    "dict_data = data['Time Series (Digital Currency Daily)']"
   ]
  },
  {
   "cell_type": "markdown",
   "id": "a5ea9ef7",
   "metadata": {},
   "source": [
    "## Working with float as type and Date as type + dropping other columns\n"
   ]
  },
  {
   "cell_type": "code",
   "execution_count": 5,
   "id": "a7612244",
   "metadata": {},
   "outputs": [],
   "source": [
    "features_df = pd.DataFrame.from_dict(dict_data,orient='index')\n",
    "features_df = features_df[features_df.columns.drop(list(features_df.filter(regex='ILS')))]\n",
    "\n",
    "features_df.index.name = 'Date'\n",
    "features_df = features_df.reset_index()\n",
    "features_df.style.format({\"date\": lambda t: t.strftime(\"%d-%m-%Y\")}) \n",
    "features_df[\"4b. close (USD)\"] = features_df[\"4b. close (USD)\"].astype(float).round(2)\n",
    "features_df = features_df.rename(columns = {'4b. close (USD)': 'Close'})\n",
    "features_df =  features_df[::-1].reset_index()\n",
    "features_df = features_df.drop(columns = ['index','1b. open (USD)', '2b. high (USD)','5. volume','6. market cap (USD)','3b. low (USD)'])\n",
    "\n",
    "# features_df = features_df.drop(features_df.index[300:1000])\n"
   ]
  },
  {
   "cell_type": "code",
   "execution_count": 6,
   "id": "6a810ae2",
   "metadata": {},
   "outputs": [
    {
     "data": {
      "text/html": [
       "<div>\n",
       "<style scoped>\n",
       "    .dataframe tbody tr th:only-of-type {\n",
       "        vertical-align: middle;\n",
       "    }\n",
       "\n",
       "    .dataframe tbody tr th {\n",
       "        vertical-align: top;\n",
       "    }\n",
       "\n",
       "    .dataframe thead th {\n",
       "        text-align: right;\n",
       "    }\n",
       "</style>\n",
       "<table border=\"1\" class=\"dataframe\">\n",
       "  <thead>\n",
       "    <tr style=\"text-align: right;\">\n",
       "      <th></th>\n",
       "      <th>Date</th>\n",
       "      <th>Close</th>\n",
       "    </tr>\n",
       "  </thead>\n",
       "  <tbody>\n",
       "    <tr>\n",
       "      <th>0</th>\n",
       "      <td>2018-09-28</td>\n",
       "      <td>6634.58</td>\n",
       "    </tr>\n",
       "    <tr>\n",
       "      <th>1</th>\n",
       "      <td>2018-09-29</td>\n",
       "      <td>6596.38</td>\n",
       "    </tr>\n",
       "    <tr>\n",
       "      <th>2</th>\n",
       "      <td>2018-09-30</td>\n",
       "      <td>6626.57</td>\n",
       "    </tr>\n",
       "    <tr>\n",
       "      <th>3</th>\n",
       "      <td>2018-10-01</td>\n",
       "      <td>6611.61</td>\n",
       "    </tr>\n",
       "    <tr>\n",
       "      <th>4</th>\n",
       "      <td>2018-10-02</td>\n",
       "      <td>6525.79</td>\n",
       "    </tr>\n",
       "  </tbody>\n",
       "</table>\n",
       "</div>"
      ],
      "text/plain": [
       "         Date    Close\n",
       "0  2018-09-28  6634.58\n",
       "1  2018-09-29  6596.38\n",
       "2  2018-09-30  6626.57\n",
       "3  2018-10-01  6611.61\n",
       "4  2018-10-02  6525.79"
      ]
     },
     "execution_count": 6,
     "metadata": {},
     "output_type": "execute_result"
    }
   ],
   "source": [
    "features_df.head()"
   ]
  },
  {
   "cell_type": "code",
   "execution_count": 7,
   "id": "32075f26",
   "metadata": {},
   "outputs": [
    {
     "data": {
      "text/html": [
       "<div>\n",
       "<style scoped>\n",
       "    .dataframe tbody tr th:only-of-type {\n",
       "        vertical-align: middle;\n",
       "    }\n",
       "\n",
       "    .dataframe tbody tr th {\n",
       "        vertical-align: top;\n",
       "    }\n",
       "\n",
       "    .dataframe thead th {\n",
       "        text-align: right;\n",
       "    }\n",
       "</style>\n",
       "<table border=\"1\" class=\"dataframe\">\n",
       "  <thead>\n",
       "    <tr style=\"text-align: right;\">\n",
       "      <th></th>\n",
       "      <th>Date</th>\n",
       "      <th>Close</th>\n",
       "    </tr>\n",
       "  </thead>\n",
       "  <tbody>\n",
       "    <tr>\n",
       "      <th>995</th>\n",
       "      <td>2021-06-19</td>\n",
       "      <td>35483.72</td>\n",
       "    </tr>\n",
       "    <tr>\n",
       "      <th>996</th>\n",
       "      <td>2021-06-20</td>\n",
       "      <td>35600.16</td>\n",
       "    </tr>\n",
       "    <tr>\n",
       "      <th>997</th>\n",
       "      <td>2021-06-21</td>\n",
       "      <td>31608.93</td>\n",
       "    </tr>\n",
       "    <tr>\n",
       "      <th>998</th>\n",
       "      <td>2021-06-22</td>\n",
       "      <td>32509.56</td>\n",
       "    </tr>\n",
       "    <tr>\n",
       "      <th>999</th>\n",
       "      <td>2021-06-23</td>\n",
       "      <td>32564.37</td>\n",
       "    </tr>\n",
       "  </tbody>\n",
       "</table>\n",
       "</div>"
      ],
      "text/plain": [
       "           Date     Close\n",
       "995  2021-06-19  35483.72\n",
       "996  2021-06-20  35600.16\n",
       "997  2021-06-21  31608.93\n",
       "998  2021-06-22  32509.56\n",
       "999  2021-06-23  32564.37"
      ]
     },
     "execution_count": 7,
     "metadata": {},
     "output_type": "execute_result"
    }
   ],
   "source": [
    "features_df.tail()"
   ]
  },
  {
   "cell_type": "markdown",
   "id": "8403ddeb",
   "metadata": {},
   "source": [
    "# Lets look on the past 100 days"
   ]
  },
  {
   "cell_type": "markdown",
   "id": "19acea48",
   "metadata": {},
   "source": [
    "### Trading days"
   ]
  },
  {
   "cell_type": "code",
   "execution_count": 10,
   "id": "ed6aa4ec",
   "metadata": {},
   "outputs": [
    {
     "data": {
      "image/png": "[encoded data removed]",
      "text/plain": [
       "<Figure size 432x288 with 1 Axes>"
      ]
     },
     "metadata": {
      "needs_background": "light"
     },
     "output_type": "display_data"
    }
   ],
   "source": [
    "\n",
    "features_df.head()\n",
    "plt.plot(features_df.tail(100)['Close'])\n",
    "plt.show()"
   ]
  },
  {
   "cell_type": "markdown",
   "id": "a718b4ba",
   "metadata": {},
   "source": [
    "## Predict n days into the future"
   ]
  },
  {
   "cell_type": "code",
   "execution_count": 12,
   "id": "43b4c5c4",
   "metadata": {},
   "outputs": [],
   "source": [
    "future_days = 30"
   ]
  },
  {
   "cell_type": "markdown",
   "id": "0a14595a",
   "metadata": {},
   "source": [
    "## Create new column (target) shifted n days"
   ]
  },
  {
   "cell_type": "code",
   "execution_count": 13,
   "id": "02f547cf",
   "metadata": {},
   "outputs": [
    {
     "data": {
      "text/html": [
       "<div>\n",
       "<style scoped>\n",
       "    .dataframe tbody tr th:only-of-type {\n",
       "        vertical-align: middle;\n",
       "    }\n",
       "\n",
       "    .dataframe tbody tr th {\n",
       "        vertical-align: top;\n",
       "    }\n",
       "\n",
       "    .dataframe thead th {\n",
       "        text-align: right;\n",
       "    }\n",
       "</style>\n",
       "<table border=\"1\" class=\"dataframe\">\n",
       "  <thead>\n",
       "    <tr style=\"text-align: right;\">\n",
       "      <th></th>\n",
       "      <th>Date</th>\n",
       "      <th>Close</th>\n",
       "      <th>Prediction</th>\n",
       "    </tr>\n",
       "  </thead>\n",
       "  <tbody>\n",
       "    <tr>\n",
       "      <th>0</th>\n",
       "      <td>2018-09-28</td>\n",
       "      <td>6634.58</td>\n",
       "      <td>6489.93</td>\n",
       "    </tr>\n",
       "    <tr>\n",
       "      <th>1</th>\n",
       "      <td>2018-09-29</td>\n",
       "      <td>6596.38</td>\n",
       "      <td>6344.50</td>\n",
       "    </tr>\n",
       "    <tr>\n",
       "      <th>2</th>\n",
       "      <td>2018-09-30</td>\n",
       "      <td>6626.57</td>\n",
       "      <td>6330.87</td>\n",
       "    </tr>\n",
       "    <tr>\n",
       "      <th>3</th>\n",
       "      <td>2018-10-01</td>\n",
       "      <td>6611.61</td>\n",
       "      <td>6371.93</td>\n",
       "    </tr>\n",
       "    <tr>\n",
       "      <th>4</th>\n",
       "      <td>2018-10-02</td>\n",
       "      <td>6525.79</td>\n",
       "      <td>6410.00</td>\n",
       "    </tr>\n",
       "    <tr>\n",
       "      <th>5</th>\n",
       "      <td>2018-10-03</td>\n",
       "      <td>6510.00</td>\n",
       "      <td>6433.98</td>\n",
       "    </tr>\n",
       "    <tr>\n",
       "      <th>6</th>\n",
       "      <td>2018-10-04</td>\n",
       "      <td>6593.79</td>\n",
       "      <td>6387.09</td>\n",
       "    </tr>\n",
       "    <tr>\n",
       "      <th>7</th>\n",
       "      <td>2018-10-05</td>\n",
       "      <td>6635.65</td>\n",
       "      <td>6485.85</td>\n",
       "    </tr>\n",
       "    <tr>\n",
       "      <th>8</th>\n",
       "      <td>2018-10-06</td>\n",
       "      <td>6594.27</td>\n",
       "      <td>6468.99</td>\n",
       "    </tr>\n",
       "    <tr>\n",
       "      <th>9</th>\n",
       "      <td>2018-10-07</td>\n",
       "      <td>6615.26</td>\n",
       "      <td>6519.11</td>\n",
       "    </tr>\n",
       "    <tr>\n",
       "      <th>10</th>\n",
       "      <td>2018-10-08</td>\n",
       "      <td>6673.01</td>\n",
       "      <td>6578.46</td>\n",
       "    </tr>\n",
       "    <tr>\n",
       "      <th>11</th>\n",
       "      <td>2018-10-09</td>\n",
       "      <td>6656.61</td>\n",
       "      <td>6479.84</td>\n",
       "    </tr>\n",
       "    <tr>\n",
       "      <th>12</th>\n",
       "      <td>2018-10-10</td>\n",
       "      <td>6631.00</td>\n",
       "      <td>6419.99</td>\n",
       "    </tr>\n",
       "    <tr>\n",
       "      <th>13</th>\n",
       "      <td>2018-10-11</td>\n",
       "      <td>6252.68</td>\n",
       "      <td>6433.05</td>\n",
       "    </tr>\n",
       "    <tr>\n",
       "      <th>14</th>\n",
       "      <td>2018-10-12</td>\n",
       "      <td>6298.01</td>\n",
       "      <td>6449.81</td>\n",
       "    </tr>\n",
       "    <tr>\n",
       "      <th>15</th>\n",
       "      <td>2018-10-13</td>\n",
       "      <td>6332.93</td>\n",
       "      <td>6453.07</td>\n",
       "    </tr>\n",
       "    <tr>\n",
       "      <th>16</th>\n",
       "      <td>2018-10-14</td>\n",
       "      <td>6339.34</td>\n",
       "      <td>6457.66</td>\n",
       "    </tr>\n",
       "    <tr>\n",
       "      <th>17</th>\n",
       "      <td>2018-10-15</td>\n",
       "      <td>6752.50</td>\n",
       "      <td>5922.41</td>\n",
       "    </tr>\n",
       "    <tr>\n",
       "      <th>18</th>\n",
       "      <td>2018-10-16</td>\n",
       "      <td>6759.27</td>\n",
       "      <td>5753.40</td>\n",
       "    </tr>\n",
       "    <tr>\n",
       "      <th>19</th>\n",
       "      <td>2018-10-17</td>\n",
       "      <td>6740.89</td>\n",
       "      <td>5655.94</td>\n",
       "    </tr>\n",
       "    <tr>\n",
       "      <th>20</th>\n",
       "      <td>2018-10-18</td>\n",
       "      <td>6618.96</td>\n",
       "      <td>5628.29</td>\n",
       "    </tr>\n",
       "    <tr>\n",
       "      <th>21</th>\n",
       "      <td>2018-10-19</td>\n",
       "      <td>6528.88</td>\n",
       "      <td>5662.00</td>\n",
       "    </tr>\n",
       "    <tr>\n",
       "      <th>22</th>\n",
       "      <td>2018-10-20</td>\n",
       "      <td>6588.40</td>\n",
       "      <td>4910.03</td>\n",
       "    </tr>\n",
       "    <tr>\n",
       "      <th>23</th>\n",
       "      <td>2018-10-21</td>\n",
       "      <td>6590.11</td>\n",
       "      <td>4558.86</td>\n",
       "    </tr>\n",
       "    <tr>\n",
       "      <th>24</th>\n",
       "      <td>2018-10-22</td>\n",
       "      <td>6581.20</td>\n",
       "      <td>4661.07</td>\n",
       "    </tr>\n",
       "    <tr>\n",
       "      <th>25</th>\n",
       "      <td>2018-10-23</td>\n",
       "      <td>6553.51</td>\n",
       "      <td>4370.00</td>\n",
       "    </tr>\n",
       "    <tr>\n",
       "      <th>26</th>\n",
       "      <td>2018-10-24</td>\n",
       "      <td>6565.50</td>\n",
       "      <td>4420.61</td>\n",
       "    </tr>\n",
       "    <tr>\n",
       "      <th>27</th>\n",
       "      <td>2018-10-25</td>\n",
       "      <td>6528.09</td>\n",
       "      <td>3932.44</td>\n",
       "    </tr>\n",
       "    <tr>\n",
       "      <th>28</th>\n",
       "      <td>2018-10-26</td>\n",
       "      <td>6538.63</td>\n",
       "      <td>4085.78</td>\n",
       "    </tr>\n",
       "    <tr>\n",
       "      <th>29</th>\n",
       "      <td>2018-10-27</td>\n",
       "      <td>6505.60</td>\n",
       "      <td>3862.20</td>\n",
       "    </tr>\n",
       "    <tr>\n",
       "      <th>30</th>\n",
       "      <td>2018-10-28</td>\n",
       "      <td>6489.93</td>\n",
       "      <td>3875.21</td>\n",
       "    </tr>\n",
       "    <tr>\n",
       "      <th>31</th>\n",
       "      <td>2018-10-29</td>\n",
       "      <td>6344.50</td>\n",
       "      <td>4264.85</td>\n",
       "    </tr>\n",
       "  </tbody>\n",
       "</table>\n",
       "</div>"
      ],
      "text/plain": [
       "          Date    Close  Prediction\n",
       "0   2018-09-28  6634.58     6489.93\n",
       "1   2018-09-29  6596.38     6344.50\n",
       "2   2018-09-30  6626.57     6330.87\n",
       "3   2018-10-01  6611.61     6371.93\n",
       "4   2018-10-02  6525.79     6410.00\n",
       "5   2018-10-03  6510.00     6433.98\n",
       "6   2018-10-04  6593.79     6387.09\n",
       "7   2018-10-05  6635.65     6485.85\n",
       "8   2018-10-06  6594.27     6468.99\n",
       "9   2018-10-07  6615.26     6519.11\n",
       "10  2018-10-08  6673.01     6578.46\n",
       "11  2018-10-09  6656.61     6479.84\n",
       "12  2018-10-10  6631.00     6419.99\n",
       "13  2018-10-11  6252.68     6433.05\n",
       "14  2018-10-12  6298.01     6449.81\n",
       "15  2018-10-13  6332.93     6453.07\n",
       "16  2018-10-14  6339.34     6457.66\n",
       "17  2018-10-15  6752.50     5922.41\n",
       "18  2018-10-16  6759.27     5753.40\n",
       "19  2018-10-17  6740.89     5655.94\n",
       "20  2018-10-18  6618.96     5628.29\n",
       "21  2018-10-19  6528.88     5662.00\n",
       "22  2018-10-20  6588.40     4910.03\n",
       "23  2018-10-21  6590.11     4558.86\n",
       "24  2018-10-22  6581.20     4661.07\n",
       "25  2018-10-23  6553.51     4370.00\n",
       "26  2018-10-24  6565.50     4420.61\n",
       "27  2018-10-25  6528.09     3932.44\n",
       "28  2018-10-26  6538.63     4085.78\n",
       "29  2018-10-27  6505.60     3862.20\n",
       "30  2018-10-28  6489.93     3875.21\n",
       "31  2018-10-29  6344.50     4264.85"
      ]
     },
     "execution_count": 13,
     "metadata": {},
     "output_type": "execute_result"
    }
   ],
   "source": [
    "features_df['Prediction'] = features_df[['Close']].shift(-future_days)\n",
    "features_df.head(32)"
   ]
  },
  {
   "cell_type": "code",
   "execution_count": 14,
   "id": "83c62237",
   "metadata": {},
   "outputs": [
    {
     "data": {
      "text/html": [
       "<div>\n",
       "<style scoped>\n",
       "    .dataframe tbody tr th:only-of-type {\n",
       "        vertical-align: middle;\n",
       "    }\n",
       "\n",
       "    .dataframe tbody tr th {\n",
       "        vertical-align: top;\n",
       "    }\n",
       "\n",
       "    .dataframe thead th {\n",
       "        text-align: right;\n",
       "    }\n",
       "</style>\n",
       "<table border=\"1\" class=\"dataframe\">\n",
       "  <thead>\n",
       "    <tr style=\"text-align: right;\">\n",
       "      <th></th>\n",
       "      <th>Date</th>\n",
       "      <th>Close</th>\n",
       "      <th>Prediction</th>\n",
       "    </tr>\n",
       "  </thead>\n",
       "  <tbody>\n",
       "    <tr>\n",
       "      <th>995</th>\n",
       "      <td>2021-06-19</td>\n",
       "      <td>35483.72</td>\n",
       "      <td>NaN</td>\n",
       "    </tr>\n",
       "    <tr>\n",
       "      <th>996</th>\n",
       "      <td>2021-06-20</td>\n",
       "      <td>35600.16</td>\n",
       "      <td>NaN</td>\n",
       "    </tr>\n",
       "    <tr>\n",
       "      <th>997</th>\n",
       "      <td>2021-06-21</td>\n",
       "      <td>31608.93</td>\n",
       "      <td>NaN</td>\n",
       "    </tr>\n",
       "    <tr>\n",
       "      <th>998</th>\n",
       "      <td>2021-06-22</td>\n",
       "      <td>32509.56</td>\n",
       "      <td>NaN</td>\n",
       "    </tr>\n",
       "    <tr>\n",
       "      <th>999</th>\n",
       "      <td>2021-06-23</td>\n",
       "      <td>32564.37</td>\n",
       "      <td>NaN</td>\n",
       "    </tr>\n",
       "  </tbody>\n",
       "</table>\n",
       "</div>"
      ],
      "text/plain": [
       "           Date     Close  Prediction\n",
       "995  2021-06-19  35483.72         NaN\n",
       "996  2021-06-20  35600.16         NaN\n",
       "997  2021-06-21  31608.93         NaN\n",
       "998  2021-06-22  32509.56         NaN\n",
       "999  2021-06-23  32564.37         NaN"
      ]
     },
     "execution_count": 14,
     "metadata": {},
     "output_type": "execute_result"
    }
   ],
   "source": [
    "features_df.tail()"
   ]
  },
  {
   "cell_type": "markdown",
   "id": "dfd33e7a",
   "metadata": {},
   "source": [
    "## Let's split the data to X & y"
   ]
  },
  {
   "cell_type": "code",
   "execution_count": 15,
   "id": "1fbbd1a8",
   "metadata": {},
   "outputs": [],
   "source": [
    "X = np.array(features_df.drop(['Prediction','Date'],1))[:-future_days]\n"
   ]
  },
  {
   "cell_type": "code",
   "execution_count": 16,
   "id": "fe693151",
   "metadata": {},
   "outputs": [],
   "source": [
    "y = np.array(features_df['Prediction'])[:-future_days]\n"
   ]
  },
  {
   "cell_type": "code",
   "execution_count": 17,
   "id": "a376bccc",
   "metadata": {},
   "outputs": [],
   "source": [
    "X_train,X_test,y_train,y_test = train_test_split(X,y,test_size=0.2)"
   ]
  },
  {
   "cell_type": "markdown",
   "id": "f1907f5f",
   "metadata": {},
   "source": [
    "## Let's create our models"
   ]
  },
  {
   "cell_type": "code",
   "execution_count": 18,
   "id": "51bd77dc",
   "metadata": {},
   "outputs": [],
   "source": [
    "models = {\"LinearRegression\": LinearRegression(), \"DecisionTreeRegressor\": DecisionTreeRegressor()}\n",
    "\n",
    "def model_iteration(models, X_train,X_test,y_train,y_test):\n",
    "    np.random.seed(42)\n",
    "    model_scores = {}\n",
    "    for model,model_exec in models.items():\n",
    "        model_exec.fit(X_train,y_train)\n",
    "        model_scores[model] = model_exec.score(X_test,y_test)\n",
    "    return model_scores\n",
    "\n"
   ]
  },
  {
   "cell_type": "code",
   "execution_count": 19,
   "id": "73de68f1",
   "metadata": {},
   "outputs": [
    {
     "data": {
      "text/plain": [
       "{'LinearRegression': 0.8675734241963684,\n",
       " 'DecisionTreeRegressor': 0.8923940247535131}"
      ]
     },
     "execution_count": 19,
     "metadata": {},
     "output_type": "execute_result"
    }
   ],
   "source": [
    "model_score = model_iteration(models,X_train,X_test,y_train,y_test)\n",
    "model_score\n",
    "\n"
   ]
  },
  {
   "cell_type": "code",
   "execution_count": 20,
   "id": "0cd2d256",
   "metadata": {},
   "outputs": [
    {
     "data": {
      "text/plain": [
       "(array([0, 1]),\n",
       " [Text(0, 0, 'LinearRegression'), Text(1, 0, 'DecisionTreeRegressor')])"
      ]
     },
     "execution_count": 20,
     "metadata": {},
     "output_type": "execute_result"
    },
    {
     "data": {
      "image/png": "[encoded data removed]",
      "text/plain": [
       "<Figure size 432x288 with 1 Axes>"
      ]
     },
     "metadata": {
      "needs_background": "light"
     },
     "output_type": "display_data"
    }
   ],
   "source": [
    "model_score_df = pd.DataFrame.from_dict(model_score,orient='index')\n",
    "model_score_df.plot.bar()\n",
    "plt.xticks(rotation=0)"
   ]
  },
  {
   "cell_type": "markdown",
   "id": "cdacaffc",
   "metadata": {},
   "source": [
    "## Create the prediction rows and compare by model"
   ]
  },
  {
   "cell_type": "code",
   "execution_count": 21,
   "id": "66318788",
   "metadata": {},
   "outputs": [],
   "source": [
    "x_future = features_df.drop(['Prediction','Date'],1)[:-future_days]\n",
    "x_future = x_future.tail(future_days)\n",
    "x_future\n",
    "x_future = np.array(x_future)\n"
   ]
  },
  {
   "cell_type": "markdown",
   "id": "151e2a81",
   "metadata": {},
   "source": [
    "# Predction Function"
   ]
  },
  {
   "cell_type": "code",
   "execution_count": 22,
   "id": "7577692f",
   "metadata": {},
   "outputs": [],
   "source": [
    "def predict_by_model(model,X_train,y_train,x_future):\n",
    "    np.random.seed(42)\n",
    "    models = {\"LinearRegression\": LinearRegression(), \"DecisionTreeRegressor\": DecisionTreeRegressor()}\n",
    "    valid = features_df[X.shape[0]:]\n",
    "    models[model].fit(X_train,y_train)\n",
    "    predictions = models[model].predict(x_future)\n",
    "    valid['Prediction'] = predictions\n",
    "    plt.figure(figsize=(16,8))\n",
    "    plt.title('Model')\n",
    "    plt.xlabel('Days')\n",
    "    plt.ylabel('Close price USD')\n",
    "    plt.plot(features_df['Close'])\n",
    "    plt.plot(valid[['Close','Prediction']])\n",
    "    plt.legend(['Past','Original Value','Prediction'])\n",
    "    plt.show()\n"
   ]
  },
  {
   "cell_type": "markdown",
   "id": "a2f12117",
   "metadata": {},
   "source": [
    "# LinearRegression"
   ]
  },
  {
   "cell_type": "code",
   "execution_count": 23,
   "id": "e612bdd4",
   "metadata": {},
   "outputs": [
    {
     "name": "stderr",
     "output_type": "stream",
     "text": [
      "<ipython-input-22-372b2659a524>:7: SettingWithCopyWarning: \n",
      "A value is trying to be set on a copy of a slice from a DataFrame.\n",
      "Try using .loc[row_indexer,col_indexer] = value instead\n",
      "\n",
      "See the caveats in the documentation: https://pandas.pydata.org/pandas-docs/stable/user_guide/indexing.html#returning-a-view-versus-a-copy\n",
      "  valid['Prediction'] = predictions\n"
     ]
    },
    {
     "data": {
      "image/png": "[encoded data removed]",
      "text/plain": [
       "<Figure size 1152x576 with 1 Axes>"
      ]
     },
     "metadata": {
      "needs_background": "light"
     },
     "output_type": "display_data"
    }
   ],
   "source": [
    "predict_by_model('LinearRegression',X_train,y_train,x_future)"
   ]
  },
  {
   "cell_type": "markdown",
   "id": "185ff0bd",
   "metadata": {},
   "source": [
    "# Let's try to do the same with DecisionTreeRegressor"
   ]
  },
  {
   "cell_type": "code",
   "execution_count": 24,
   "id": "84bcb19d",
   "metadata": {},
   "outputs": [
    {
     "name": "stderr",
     "output_type": "stream",
     "text": [
      "<ipython-input-22-372b2659a524>:7: SettingWithCopyWarning: \n",
      "A value is trying to be set on a copy of a slice from a DataFrame.\n",
      "Try using .loc[row_indexer,col_indexer] = value instead\n",
      "\n",
      "See the caveats in the documentation: https://pandas.pydata.org/pandas-docs/stable/user_guide/indexing.html#returning-a-view-versus-a-copy\n",
      "  valid['Prediction'] = predictions\n"
     ]
    },
    {
     "data": {
      "image/png": "[encoded data removed]",
      "text/plain": [
       "<Figure size 1152x576 with 1 Axes>"
      ]
     },
     "metadata": {
      "needs_background": "light"
     },
     "output_type": "display_data"
    }
   ],
   "source": [
    "predict_by_model('DecisionTreeRegressor',X_train,y_train,x_future)"
   ]
  },
  {
   "cell_type": "markdown",
   "id": "0d4c05bf",
   "metadata": {},
   "source": [
    "## Now we will cut the last n days to predict the next n"
   ]
  },
  {
   "cell_type": "code",
   "execution_count": 25,
   "id": "97af4ca0",
   "metadata": {},
   "outputs": [
    {
     "data": {
      "text/plain": [
       "array([[38324.72],\n",
       "       [39241.91],\n",
       "       [38529.98],\n",
       "       [35663.49],\n",
       "       [34605.15],\n",
       "       [35641.27],\n",
       "       [37253.81],\n",
       "       [36693.09],\n",
       "       [37568.68],\n",
       "       [39246.79],\n",
       "       [36829.  ],\n",
       "       [35513.2 ],\n",
       "       [35796.31],\n",
       "       [33552.79],\n",
       "       [33380.81],\n",
       "       [37388.05],\n",
       "       [36675.72],\n",
       "       [37331.98],\n",
       "       [35546.11],\n",
       "       [39020.57],\n",
       "       [40516.29],\n",
       "       [40144.04],\n",
       "       [38349.01],\n",
       "       [38092.97],\n",
       "       [35819.84],\n",
       "       [35483.72],\n",
       "       [35600.16],\n",
       "       [31608.93],\n",
       "       [32509.56],\n",
       "       [32564.37]])"
      ]
     },
     "execution_count": 25,
     "metadata": {},
     "output_type": "execute_result"
    }
   ],
   "source": [
    "x_future_prediction = features_df.drop(['Prediction','Date'],1)[future_days:]\n",
    "x_future_prediction = x_future_prediction.tail(future_days)\n",
    "x_future_prediction = np.array(x_future_prediction)\n",
    "x_future_prediction"
   ]
  },
  {
   "cell_type": "markdown",
   "id": "829f7670",
   "metadata": {},
   "source": [
    "## Let's use the DecisionTree model for our prediction"
   ]
  },
  {
   "cell_type": "code",
   "execution_count": 104,
   "id": "fb8d9db4",
   "metadata": {},
   "outputs": [
    {
     "data": {
      "text/plain": [
       "array([ 9864.91,  9864.91,  9864.91,  9864.91,  9864.91,  9864.91,\n",
       "        9864.91,  9864.91,  9864.91,  9864.91,  9864.91,  9864.91,\n",
       "        9864.91,  9864.91,  9864.91,  9864.91,  9864.91,  9864.91,\n",
       "        9864.91, 10589.45,  9864.91, 10740.23, 10740.23,  9864.91,\n",
       "       10589.45,  9864.91,  9864.91, 10589.45, 10589.45, 10740.23])"
      ]
     },
     "execution_count": 104,
     "metadata": {},
     "output_type": "execute_result"
    }
   ],
   "source": [
    "from datetime import datetime\n",
    "np.random.seed(42)\n",
    "tree = DecisionTreeRegressor()\n",
    "tree.fit(X_train,y_train)\n",
    "prediction = tree.predict(x_future_prediction)\n",
    "prediction"
   ]
  },
  {
   "cell_type": "code",
   "execution_count": 105,
   "id": "b9b9d9a7",
   "metadata": {},
   "outputs": [
    {
     "data": {
      "text/html": [
       "<div>\n",
       "<style scoped>\n",
       "    .dataframe tbody tr th:only-of-type {\n",
       "        vertical-align: middle;\n",
       "    }\n",
       "\n",
       "    .dataframe tbody tr th {\n",
       "        vertical-align: top;\n",
       "    }\n",
       "\n",
       "    .dataframe thead th {\n",
       "        text-align: right;\n",
       "    }\n",
       "</style>\n",
       "<table border=\"1\" class=\"dataframe\">\n",
       "  <thead>\n",
       "    <tr style=\"text-align: right;\">\n",
       "      <th></th>\n",
       "      <th>Date</th>\n",
       "      <th>Prediction</th>\n",
       "    </tr>\n",
       "  </thead>\n",
       "  <tbody>\n",
       "    <tr>\n",
       "      <th>0</th>\n",
       "      <td>2019-07-25</td>\n",
       "      <td>9864.91</td>\n",
       "    </tr>\n",
       "    <tr>\n",
       "      <th>1</th>\n",
       "      <td>2019-07-26</td>\n",
       "      <td>9864.91</td>\n",
       "    </tr>\n",
       "    <tr>\n",
       "      <th>2</th>\n",
       "      <td>2019-07-27</td>\n",
       "      <td>9864.91</td>\n",
       "    </tr>\n",
       "    <tr>\n",
       "      <th>3</th>\n",
       "      <td>2019-07-28</td>\n",
       "      <td>9864.91</td>\n",
       "    </tr>\n",
       "    <tr>\n",
       "      <th>4</th>\n",
       "      <td>2019-07-29</td>\n",
       "      <td>9864.91</td>\n",
       "    </tr>\n",
       "    <tr>\n",
       "      <th>5</th>\n",
       "      <td>2019-07-30</td>\n",
       "      <td>9864.91</td>\n",
       "    </tr>\n",
       "    <tr>\n",
       "      <th>6</th>\n",
       "      <td>2019-07-31</td>\n",
       "      <td>9864.91</td>\n",
       "    </tr>\n",
       "    <tr>\n",
       "      <th>7</th>\n",
       "      <td>2019-08-01</td>\n",
       "      <td>9864.91</td>\n",
       "    </tr>\n",
       "    <tr>\n",
       "      <th>8</th>\n",
       "      <td>2019-08-02</td>\n",
       "      <td>9864.91</td>\n",
       "    </tr>\n",
       "    <tr>\n",
       "      <th>9</th>\n",
       "      <td>2019-08-03</td>\n",
       "      <td>9864.91</td>\n",
       "    </tr>\n",
       "    <tr>\n",
       "      <th>10</th>\n",
       "      <td>2019-08-04</td>\n",
       "      <td>9864.91</td>\n",
       "    </tr>\n",
       "    <tr>\n",
       "      <th>11</th>\n",
       "      <td>2019-08-05</td>\n",
       "      <td>9864.91</td>\n",
       "    </tr>\n",
       "    <tr>\n",
       "      <th>12</th>\n",
       "      <td>2019-08-06</td>\n",
       "      <td>9864.91</td>\n",
       "    </tr>\n",
       "    <tr>\n",
       "      <th>13</th>\n",
       "      <td>2019-08-07</td>\n",
       "      <td>9864.91</td>\n",
       "    </tr>\n",
       "    <tr>\n",
       "      <th>14</th>\n",
       "      <td>2019-08-08</td>\n",
       "      <td>9864.91</td>\n",
       "    </tr>\n",
       "    <tr>\n",
       "      <th>15</th>\n",
       "      <td>2019-08-09</td>\n",
       "      <td>9864.91</td>\n",
       "    </tr>\n",
       "    <tr>\n",
       "      <th>16</th>\n",
       "      <td>2019-08-10</td>\n",
       "      <td>9864.91</td>\n",
       "    </tr>\n",
       "    <tr>\n",
       "      <th>17</th>\n",
       "      <td>2019-08-11</td>\n",
       "      <td>9864.91</td>\n",
       "    </tr>\n",
       "    <tr>\n",
       "      <th>18</th>\n",
       "      <td>2019-08-12</td>\n",
       "      <td>9864.91</td>\n",
       "    </tr>\n",
       "    <tr>\n",
       "      <th>19</th>\n",
       "      <td>2019-08-13</td>\n",
       "      <td>10589.45</td>\n",
       "    </tr>\n",
       "    <tr>\n",
       "      <th>20</th>\n",
       "      <td>2019-08-14</td>\n",
       "      <td>9864.91</td>\n",
       "    </tr>\n",
       "    <tr>\n",
       "      <th>21</th>\n",
       "      <td>2019-08-15</td>\n",
       "      <td>10740.23</td>\n",
       "    </tr>\n",
       "    <tr>\n",
       "      <th>22</th>\n",
       "      <td>2019-08-16</td>\n",
       "      <td>10740.23</td>\n",
       "    </tr>\n",
       "    <tr>\n",
       "      <th>23</th>\n",
       "      <td>2019-08-17</td>\n",
       "      <td>9864.91</td>\n",
       "    </tr>\n",
       "    <tr>\n",
       "      <th>24</th>\n",
       "      <td>2019-08-18</td>\n",
       "      <td>10589.45</td>\n",
       "    </tr>\n",
       "    <tr>\n",
       "      <th>25</th>\n",
       "      <td>2019-08-19</td>\n",
       "      <td>9864.91</td>\n",
       "    </tr>\n",
       "    <tr>\n",
       "      <th>26</th>\n",
       "      <td>2019-08-20</td>\n",
       "      <td>9864.91</td>\n",
       "    </tr>\n",
       "    <tr>\n",
       "      <th>27</th>\n",
       "      <td>2019-08-21</td>\n",
       "      <td>10589.45</td>\n",
       "    </tr>\n",
       "    <tr>\n",
       "      <th>28</th>\n",
       "      <td>2019-08-22</td>\n",
       "      <td>10589.45</td>\n",
       "    </tr>\n",
       "    <tr>\n",
       "      <th>29</th>\n",
       "      <td>2019-08-23</td>\n",
       "      <td>10740.23</td>\n",
       "    </tr>\n",
       "  </tbody>\n",
       "</table>\n",
       "</div>"
      ],
      "text/plain": [
       "         Date  Prediction\n",
       "0  2019-07-25     9864.91\n",
       "1  2019-07-26     9864.91\n",
       "2  2019-07-27     9864.91\n",
       "3  2019-07-28     9864.91\n",
       "4  2019-07-29     9864.91\n",
       "5  2019-07-30     9864.91\n",
       "6  2019-07-31     9864.91\n",
       "7  2019-08-01     9864.91\n",
       "8  2019-08-02     9864.91\n",
       "9  2019-08-03     9864.91\n",
       "10 2019-08-04     9864.91\n",
       "11 2019-08-05     9864.91\n",
       "12 2019-08-06     9864.91\n",
       "13 2019-08-07     9864.91\n",
       "14 2019-08-08     9864.91\n",
       "15 2019-08-09     9864.91\n",
       "16 2019-08-10     9864.91\n",
       "17 2019-08-11     9864.91\n",
       "18 2019-08-12     9864.91\n",
       "19 2019-08-13    10589.45\n",
       "20 2019-08-14     9864.91\n",
       "21 2019-08-15    10740.23\n",
       "22 2019-08-16    10740.23\n",
       "23 2019-08-17     9864.91\n",
       "24 2019-08-18    10589.45\n",
       "25 2019-08-19     9864.91\n",
       "26 2019-08-20     9864.91\n",
       "27 2019-08-21    10589.45\n",
       "28 2019-08-22    10589.45\n",
       "29 2019-08-23    10740.23"
      ]
     },
     "execution_count": 105,
     "metadata": {},
     "output_type": "execute_result"
    }
   ],
   "source": [
    "\n",
    "new_df = features_df[X.shape[0]:]\n",
    "date = features_df['Date'][features_df.index[-1]]\n",
    "new_df = pd.DatetimeIndex(new_df['Date']) + pd.DateOffset(30)\n",
    "new_df = pd.DataFrame(new_df)\n",
    "new_df['Prediction'] = prediction\n",
    "\n",
    "new_df\n"
   ]
  },
  {
   "cell_type": "code",
   "execution_count": 106,
   "id": "01d3ae39",
   "metadata": {},
   "outputs": [
    {
     "data": {
      "image/png": "[encoded data removed]",
      "text/plain": [
       "<Figure size 432x288 with 1 Axes>"
      ]
     },
     "metadata": {
      "needs_background": "light"
     },
     "output_type": "display_data"
    }
   ],
   "source": [
    "plt.plot(new_df['Prediction'])\n",
    "plt.show()"
   ]
  },
  {
   "cell_type": "code",
   "execution_count": null,
   "id": "713ce223",
   "metadata": {},
   "outputs": [],
   "source": []
  },
  {
   "cell_type": "code",
   "execution_count": null,
   "id": "ced49ca0",
   "metadata": {},
   "outputs": [],
   "source": []
  }
 ],
 "metadata": {
  "kernelspec": {
   "display_name": "Python 3",
   "language": "python",
   "name": "python3"
  },
  "language_info": {
   "codemirror_mode": {
    "name": "ipython",
    "version": 3
   },
   "file_extension": ".py",
   "mimetype": "text/x-python",
   "name": "python",
   "nbconvert_exporter": "python",
   "pygments_lexer": "ipython3",
   "version": "3.8.8"
  }
 },
 "nbformat": 4,
 "nbformat_minor": 5
}
